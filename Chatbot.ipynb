{
 "cells": [
  {
   "cell_type": "markdown",
   "id": "6b6a4e9f-62d6-4ccf-aa51-b4e92c163c84",
   "metadata": {},
   "source": [
    "__Cell 1: Install all necessary libraries from requirements.txt__"
   ]
  },
  {
   "cell_type": "code",
   "execution_count": 2,
   "id": "47fffdd5-7519-42d2-9954-43291b2ebe4f",
   "metadata": {},
   "outputs": [
    {
     "name": "stdout",
     "output_type": "stream",
     "text": [
      "Requirement already satisfied: langchain in /opt/anaconda3/lib/python3.12/site-packages (from -r requirements.txt (line 1)) (0.3.11)\n",
      "Requirement already satisfied: langchain-google-genai in /opt/anaconda3/lib/python3.12/site-packages (from -r requirements.txt (line 2)) (2.1.5)\n",
      "Requirement already satisfied: entsoe-py in /opt/anaconda3/lib/python3.12/site-packages (from -r requirements.txt (line 3)) (0.7.4)\n",
      "Requirement already satisfied: pandas in /opt/anaconda3/lib/python3.12/site-packages (from -r requirements.txt (line 4)) (2.2.2)\n",
      "Requirement already satisfied: gradio in /opt/anaconda3/lib/python3.12/site-packages (from -r requirements.txt (line 5)) (5.44.1)\n",
      "Requirement already satisfied: PyYAML>=5.3 in /opt/anaconda3/lib/python3.12/site-packages (from langchain->-r requirements.txt (line 1)) (6.0.1)\n",
      "Requirement already satisfied: SQLAlchemy<3,>=1.4 in /opt/anaconda3/lib/python3.12/site-packages (from langchain->-r requirements.txt (line 1)) (2.0.30)\n",
      "Requirement already satisfied: aiohttp<4.0.0,>=3.8.3 in /opt/anaconda3/lib/python3.12/site-packages (from langchain->-r requirements.txt (line 1)) (3.9.5)\n",
      "Requirement already satisfied: langchain-core<0.4.0,>=0.3.24 in /opt/anaconda3/lib/python3.12/site-packages (from langchain->-r requirements.txt (line 1)) (0.3.63)\n",
      "Requirement already satisfied: langchain-text-splitters<0.4.0,>=0.3.0 in /opt/anaconda3/lib/python3.12/site-packages (from langchain->-r requirements.txt (line 1)) (0.3.7)\n",
      "Requirement already satisfied: langsmith<0.3,>=0.1.17 in /opt/anaconda3/lib/python3.12/site-packages (from langchain->-r requirements.txt (line 1)) (0.2.11)\n",
      "Requirement already satisfied: numpy<3,>=1.26.2 in /opt/anaconda3/lib/python3.12/site-packages (from langchain->-r requirements.txt (line 1)) (1.26.4)\n",
      "Requirement already satisfied: pydantic<3.0.0,>=2.7.4 in /opt/anaconda3/lib/python3.12/site-packages (from langchain->-r requirements.txt (line 1)) (2.11.1)\n",
      "Requirement already satisfied: requests<3,>=2 in /opt/anaconda3/lib/python3.12/site-packages (from langchain->-r requirements.txt (line 1)) (2.32.2)\n",
      "Requirement already satisfied: tenacity!=8.4.0,<10,>=8.1.0 in /opt/anaconda3/lib/python3.12/site-packages (from langchain->-r requirements.txt (line 1)) (9.1.2)\n",
      "Requirement already satisfied: filetype<2.0.0,>=1.2.0 in /opt/anaconda3/lib/python3.12/site-packages (from langchain-google-genai->-r requirements.txt (line 2)) (1.2.0)\n",
      "Requirement already satisfied: google-ai-generativelanguage<0.7.0,>=0.6.18 in /opt/anaconda3/lib/python3.12/site-packages (from langchain-google-genai->-r requirements.txt (line 2)) (0.6.18)\n",
      "Requirement already satisfied: pytz in /opt/anaconda3/lib/python3.12/site-packages (from entsoe-py->-r requirements.txt (line 3)) (2024.1)\n",
      "Requirement already satisfied: beautifulsoup4>=4.11.1 in /opt/anaconda3/lib/python3.12/site-packages (from entsoe-py->-r requirements.txt (line 3)) (4.12.3)\n",
      "Requirement already satisfied: python-dateutil>=2.8.2 in /opt/anaconda3/lib/python3.12/site-packages (from pandas->-r requirements.txt (line 4)) (2.9.0.post0)\n",
      "Requirement already satisfied: tzdata>=2022.7 in /opt/anaconda3/lib/python3.12/site-packages (from pandas->-r requirements.txt (line 4)) (2023.3)\n",
      "Requirement already satisfied: aiofiles<25.0,>=22.0 in /opt/anaconda3/lib/python3.12/site-packages (from gradio->-r requirements.txt (line 5)) (24.1.0)\n",
      "Requirement already satisfied: anyio<5.0,>=3.0 in /opt/anaconda3/lib/python3.12/site-packages (from gradio->-r requirements.txt (line 5)) (4.2.0)\n",
      "Requirement already satisfied: brotli>=1.1.0 in /opt/anaconda3/lib/python3.12/site-packages (from gradio->-r requirements.txt (line 5)) (1.1.0)\n",
      "Requirement already satisfied: fastapi<1.0,>=0.115.2 in /opt/anaconda3/lib/python3.12/site-packages (from gradio->-r requirements.txt (line 5)) (0.115.12)\n",
      "Requirement already satisfied: ffmpy in /opt/anaconda3/lib/python3.12/site-packages (from gradio->-r requirements.txt (line 5)) (0.6.1)\n",
      "Requirement already satisfied: gradio-client==1.12.1 in /opt/anaconda3/lib/python3.12/site-packages (from gradio->-r requirements.txt (line 5)) (1.12.1)\n",
      "Requirement already satisfied: groovy~=0.1 in /opt/anaconda3/lib/python3.12/site-packages (from gradio->-r requirements.txt (line 5)) (0.1.2)\n",
      "Requirement already satisfied: httpx<1.0,>=0.24.1 in /opt/anaconda3/lib/python3.12/site-packages (from gradio->-r requirements.txt (line 5)) (0.27.0)\n",
      "Requirement already satisfied: huggingface-hub<1.0,>=0.33.5 in /opt/anaconda3/lib/python3.12/site-packages (from gradio->-r requirements.txt (line 5)) (0.34.4)\n",
      "Requirement already satisfied: jinja2<4.0 in /opt/anaconda3/lib/python3.12/site-packages (from gradio->-r requirements.txt (line 5)) (3.1.4)\n",
      "Requirement already satisfied: markupsafe<4.0,>=2.0 in /opt/anaconda3/lib/python3.12/site-packages (from gradio->-r requirements.txt (line 5)) (2.1.3)\n",
      "Requirement already satisfied: orjson~=3.0 in /opt/anaconda3/lib/python3.12/site-packages (from gradio->-r requirements.txt (line 5)) (3.10.16)\n",
      "Requirement already satisfied: packaging in /opt/anaconda3/lib/python3.12/site-packages (from gradio->-r requirements.txt (line 5)) (23.2)\n",
      "Requirement already satisfied: pillow<12.0,>=8.0 in /opt/anaconda3/lib/python3.12/site-packages (from gradio->-r requirements.txt (line 5)) (10.3.0)\n",
      "Requirement already satisfied: pydub in /opt/anaconda3/lib/python3.12/site-packages (from gradio->-r requirements.txt (line 5)) (0.25.1)\n",
      "Requirement already satisfied: python-multipart>=0.0.18 in /opt/anaconda3/lib/python3.12/site-packages (from gradio->-r requirements.txt (line 5)) (0.0.20)\n",
      "Requirement already satisfied: ruff>=0.9.3 in /opt/anaconda3/lib/python3.12/site-packages (from gradio->-r requirements.txt (line 5)) (0.12.4)\n",
      "Requirement already satisfied: safehttpx<0.2.0,>=0.1.6 in /opt/anaconda3/lib/python3.12/site-packages (from gradio->-r requirements.txt (line 5)) (0.1.6)\n",
      "Requirement already satisfied: semantic-version~=2.0 in /opt/anaconda3/lib/python3.12/site-packages (from gradio->-r requirements.txt (line 5)) (2.10.0)\n",
      "Requirement already satisfied: starlette<1.0,>=0.40.0 in /opt/anaconda3/lib/python3.12/site-packages (from gradio->-r requirements.txt (line 5)) (0.46.2)\n",
      "Requirement already satisfied: tomlkit<0.14.0,>=0.12.0 in /opt/anaconda3/lib/python3.12/site-packages (from gradio->-r requirements.txt (line 5)) (0.13.3)\n",
      "Requirement already satisfied: typer<1.0,>=0.12 in /opt/anaconda3/lib/python3.12/site-packages (from gradio->-r requirements.txt (line 5)) (0.15.2)\n",
      "Requirement already satisfied: typing-extensions~=4.0 in /opt/anaconda3/lib/python3.12/site-packages (from gradio->-r requirements.txt (line 5)) (4.13.0)\n",
      "Requirement already satisfied: uvicorn>=0.14.0 in /opt/anaconda3/lib/python3.12/site-packages (from gradio->-r requirements.txt (line 5)) (0.34.2)\n",
      "Requirement already satisfied: fsspec in /opt/anaconda3/lib/python3.12/site-packages (from gradio-client==1.12.1->gradio->-r requirements.txt (line 5)) (2024.3.1)\n",
      "Requirement already satisfied: websockets<16.0,>=10.0 in /opt/anaconda3/lib/python3.12/site-packages (from gradio-client==1.12.1->gradio->-r requirements.txt (line 5)) (15.0.1)\n",
      "Requirement already satisfied: aiosignal>=1.1.2 in /opt/anaconda3/lib/python3.12/site-packages (from aiohttp<4.0.0,>=3.8.3->langchain->-r requirements.txt (line 1)) (1.2.0)\n",
      "Requirement already satisfied: attrs>=17.3.0 in /opt/anaconda3/lib/python3.12/site-packages (from aiohttp<4.0.0,>=3.8.3->langchain->-r requirements.txt (line 1)) (23.1.0)\n",
      "Requirement already satisfied: frozenlist>=1.1.1 in /opt/anaconda3/lib/python3.12/site-packages (from aiohttp<4.0.0,>=3.8.3->langchain->-r requirements.txt (line 1)) (1.4.0)\n",
      "Requirement already satisfied: multidict<7.0,>=4.5 in /opt/anaconda3/lib/python3.12/site-packages (from aiohttp<4.0.0,>=3.8.3->langchain->-r requirements.txt (line 1)) (6.0.4)\n",
      "Requirement already satisfied: yarl<2.0,>=1.0 in /opt/anaconda3/lib/python3.12/site-packages (from aiohttp<4.0.0,>=3.8.3->langchain->-r requirements.txt (line 1)) (1.9.3)\n",
      "Requirement already satisfied: idna>=2.8 in /opt/anaconda3/lib/python3.12/site-packages (from anyio<5.0,>=3.0->gradio->-r requirements.txt (line 5)) (3.7)\n",
      "Requirement already satisfied: sniffio>=1.1 in /opt/anaconda3/lib/python3.12/site-packages (from anyio<5.0,>=3.0->gradio->-r requirements.txt (line 5)) (1.3.0)\n",
      "Requirement already satisfied: soupsieve>1.2 in /opt/anaconda3/lib/python3.12/site-packages (from beautifulsoup4>=4.11.1->entsoe-py->-r requirements.txt (line 3)) (2.5)\n",
      "Requirement already satisfied: google-api-core!=2.0.*,!=2.1.*,!=2.10.*,!=2.2.*,!=2.3.*,!=2.4.*,!=2.5.*,!=2.6.*,!=2.7.*,!=2.8.*,!=2.9.*,<3.0.0,>=1.34.1 in /opt/anaconda3/lib/python3.12/site-packages (from google-api-core[grpc]!=2.0.*,!=2.1.*,!=2.10.*,!=2.2.*,!=2.3.*,!=2.4.*,!=2.5.*,!=2.6.*,!=2.7.*,!=2.8.*,!=2.9.*,<3.0.0,>=1.34.1->google-ai-generativelanguage<0.7.0,>=0.6.18->langchain-google-genai->-r requirements.txt (line 2)) (2.25.1)\n",
      "Requirement already satisfied: google-auth!=2.24.0,!=2.25.0,<3.0.0,>=2.14.1 in /opt/anaconda3/lib/python3.12/site-packages (from google-ai-generativelanguage<0.7.0,>=0.6.18->langchain-google-genai->-r requirements.txt (line 2)) (2.39.0)\n",
      "Requirement already satisfied: proto-plus<2.0.0,>=1.22.3 in /opt/anaconda3/lib/python3.12/site-packages (from google-ai-generativelanguage<0.7.0,>=0.6.18->langchain-google-genai->-r requirements.txt (line 2)) (1.26.1)\n",
      "Requirement already satisfied: protobuf!=4.21.0,!=4.21.1,!=4.21.2,!=4.21.3,!=4.21.4,!=4.21.5,<7.0.0,>=3.20.2 in /opt/anaconda3/lib/python3.12/site-packages (from google-ai-generativelanguage<0.7.0,>=0.6.18->langchain-google-genai->-r requirements.txt (line 2)) (6.31.1)\n",
      "Requirement already satisfied: certifi in /opt/anaconda3/lib/python3.12/site-packages (from httpx<1.0,>=0.24.1->gradio->-r requirements.txt (line 5)) (2024.8.30)\n",
      "Requirement already satisfied: httpcore==1.* in /opt/anaconda3/lib/python3.12/site-packages (from httpx<1.0,>=0.24.1->gradio->-r requirements.txt (line 5)) (1.0.2)\n",
      "Requirement already satisfied: h11<0.15,>=0.13 in /opt/anaconda3/lib/python3.12/site-packages (from httpcore==1.*->httpx<1.0,>=0.24.1->gradio->-r requirements.txt (line 5)) (0.14.0)\n",
      "Requirement already satisfied: filelock in /opt/anaconda3/lib/python3.12/site-packages (from huggingface-hub<1.0,>=0.33.5->gradio->-r requirements.txt (line 5)) (3.13.1)\n",
      "Requirement already satisfied: tqdm>=4.42.1 in /opt/anaconda3/lib/python3.12/site-packages (from huggingface-hub<1.0,>=0.33.5->gradio->-r requirements.txt (line 5)) (4.66.4)\n",
      "Requirement already satisfied: hf-xet<2.0.0,>=1.1.3 in /opt/anaconda3/lib/python3.12/site-packages (from huggingface-hub<1.0,>=0.33.5->gradio->-r requirements.txt (line 5)) (1.1.9)\n",
      "Requirement already satisfied: jsonpatch<2.0,>=1.33 in /opt/anaconda3/lib/python3.12/site-packages (from langchain-core<0.4.0,>=0.3.24->langchain->-r requirements.txt (line 1)) (1.33)\n",
      "Requirement already satisfied: requests-toolbelt<2.0.0,>=1.0.0 in /opt/anaconda3/lib/python3.12/site-packages (from langsmith<0.3,>=0.1.17->langchain->-r requirements.txt (line 1)) (1.0.0)\n",
      "Requirement already satisfied: annotated-types>=0.6.0 in /opt/anaconda3/lib/python3.12/site-packages (from pydantic<3.0.0,>=2.7.4->langchain->-r requirements.txt (line 1)) (0.6.0)\n",
      "Requirement already satisfied: pydantic-core==2.33.0 in /opt/anaconda3/lib/python3.12/site-packages (from pydantic<3.0.0,>=2.7.4->langchain->-r requirements.txt (line 1)) (2.33.0)\n",
      "Requirement already satisfied: typing-inspection>=0.4.0 in /opt/anaconda3/lib/python3.12/site-packages (from pydantic<3.0.0,>=2.7.4->langchain->-r requirements.txt (line 1)) (0.4.0)\n",
      "Requirement already satisfied: six>=1.5 in /opt/anaconda3/lib/python3.12/site-packages (from python-dateutil>=2.8.2->pandas->-r requirements.txt (line 4)) (1.16.0)\n",
      "Requirement already satisfied: charset-normalizer<4,>=2 in /opt/anaconda3/lib/python3.12/site-packages (from requests<3,>=2->langchain->-r requirements.txt (line 1)) (2.0.4)\n",
      "Requirement already satisfied: urllib3<3,>=1.21.1 in /opt/anaconda3/lib/python3.12/site-packages (from requests<3,>=2->langchain->-r requirements.txt (line 1)) (2.2.2)\n",
      "Requirement already satisfied: click>=8.0.0 in /opt/anaconda3/lib/python3.12/site-packages (from typer<1.0,>=0.12->gradio->-r requirements.txt (line 5)) (8.1.7)\n",
      "Requirement already satisfied: shellingham>=1.3.0 in /opt/anaconda3/lib/python3.12/site-packages (from typer<1.0,>=0.12->gradio->-r requirements.txt (line 5)) (1.5.4)\n",
      "Requirement already satisfied: rich>=10.11.0 in /opt/anaconda3/lib/python3.12/site-packages (from typer<1.0,>=0.12->gradio->-r requirements.txt (line 5)) (13.3.5)\n",
      "Requirement already satisfied: googleapis-common-protos<2.0.0,>=1.56.2 in /opt/anaconda3/lib/python3.12/site-packages (from google-api-core!=2.0.*,!=2.1.*,!=2.10.*,!=2.2.*,!=2.3.*,!=2.4.*,!=2.5.*,!=2.6.*,!=2.7.*,!=2.8.*,!=2.9.*,<3.0.0,>=1.34.1->google-api-core[grpc]!=2.0.*,!=2.1.*,!=2.10.*,!=2.2.*,!=2.3.*,!=2.4.*,!=2.5.*,!=2.6.*,!=2.7.*,!=2.8.*,!=2.9.*,<3.0.0,>=1.34.1->google-ai-generativelanguage<0.7.0,>=0.6.18->langchain-google-genai->-r requirements.txt (line 2)) (1.70.0)\n",
      "Requirement already satisfied: grpcio<2.0.0,>=1.33.2 in /opt/anaconda3/lib/python3.12/site-packages (from google-api-core[grpc]!=2.0.*,!=2.1.*,!=2.10.*,!=2.2.*,!=2.3.*,!=2.4.*,!=2.5.*,!=2.6.*,!=2.7.*,!=2.8.*,!=2.9.*,<3.0.0,>=1.34.1->google-ai-generativelanguage<0.7.0,>=0.6.18->langchain-google-genai->-r requirements.txt (line 2)) (1.73.1)\n",
      "Requirement already satisfied: grpcio-status<2.0.0,>=1.33.2 in /opt/anaconda3/lib/python3.12/site-packages (from google-api-core[grpc]!=2.0.*,!=2.1.*,!=2.10.*,!=2.2.*,!=2.3.*,!=2.4.*,!=2.5.*,!=2.6.*,!=2.7.*,!=2.8.*,!=2.9.*,<3.0.0,>=1.34.1->google-ai-generativelanguage<0.7.0,>=0.6.18->langchain-google-genai->-r requirements.txt (line 2)) (1.73.1)\n",
      "Requirement already satisfied: cachetools<6.0,>=2.0.0 in /opt/anaconda3/lib/python3.12/site-packages (from google-auth!=2.24.0,!=2.25.0,<3.0.0,>=2.14.1->google-ai-generativelanguage<0.7.0,>=0.6.18->langchain-google-genai->-r requirements.txt (line 2)) (5.3.3)\n",
      "Requirement already satisfied: pyasn1-modules>=0.2.1 in /opt/anaconda3/lib/python3.12/site-packages (from google-auth!=2.24.0,!=2.25.0,<3.0.0,>=2.14.1->google-ai-generativelanguage<0.7.0,>=0.6.18->langchain-google-genai->-r requirements.txt (line 2)) (0.2.8)\n",
      "Requirement already satisfied: rsa<5,>=3.1.4 in /opt/anaconda3/lib/python3.12/site-packages (from google-auth!=2.24.0,!=2.25.0,<3.0.0,>=2.14.1->google-ai-generativelanguage<0.7.0,>=0.6.18->langchain-google-genai->-r requirements.txt (line 2)) (4.9.1)\n",
      "Requirement already satisfied: jsonpointer>=1.9 in /opt/anaconda3/lib/python3.12/site-packages (from jsonpatch<2.0,>=1.33->langchain-core<0.4.0,>=0.3.24->langchain->-r requirements.txt (line 1)) (2.1)\n",
      "Requirement already satisfied: markdown-it-py<3.0.0,>=2.2.0 in /opt/anaconda3/lib/python3.12/site-packages (from rich>=10.11.0->typer<1.0,>=0.12->gradio->-r requirements.txt (line 5)) (2.2.0)\n",
      "Requirement already satisfied: pygments<3.0.0,>=2.13.0 in /opt/anaconda3/lib/python3.12/site-packages (from rich>=10.11.0->typer<1.0,>=0.12->gradio->-r requirements.txt (line 5)) (2.15.1)\n",
      "Requirement already satisfied: mdurl~=0.1 in /opt/anaconda3/lib/python3.12/site-packages (from markdown-it-py<3.0.0,>=2.2.0->rich>=10.11.0->typer<1.0,>=0.12->gradio->-r requirements.txt (line 5)) (0.1.0)\n",
      "Requirement already satisfied: pyasn1<0.5.0,>=0.4.6 in /opt/anaconda3/lib/python3.12/site-packages (from pyasn1-modules>=0.2.1->google-auth!=2.24.0,!=2.25.0,<3.0.0,>=2.14.1->google-ai-generativelanguage<0.7.0,>=0.6.18->langchain-google-genai->-r requirements.txt (line 2)) (0.4.8)\n",
      "Note: you may need to restart the kernel to use updated packages.\n",
      "Requirement already satisfied: gradio in /opt/anaconda3/lib/python3.12/site-packages (5.44.1)\n",
      "Requirement already satisfied: aiofiles<25.0,>=22.0 in /opt/anaconda3/lib/python3.12/site-packages (from gradio) (24.1.0)\n",
      "Requirement already satisfied: anyio<5.0,>=3.0 in /opt/anaconda3/lib/python3.12/site-packages (from gradio) (4.2.0)\n",
      "Requirement already satisfied: brotli>=1.1.0 in /opt/anaconda3/lib/python3.12/site-packages (from gradio) (1.1.0)\n",
      "Requirement already satisfied: fastapi<1.0,>=0.115.2 in /opt/anaconda3/lib/python3.12/site-packages (from gradio) (0.115.12)\n",
      "Requirement already satisfied: ffmpy in /opt/anaconda3/lib/python3.12/site-packages (from gradio) (0.6.1)\n",
      "Requirement already satisfied: gradio-client==1.12.1 in /opt/anaconda3/lib/python3.12/site-packages (from gradio) (1.12.1)\n",
      "Requirement already satisfied: groovy~=0.1 in /opt/anaconda3/lib/python3.12/site-packages (from gradio) (0.1.2)\n",
      "Requirement already satisfied: httpx<1.0,>=0.24.1 in /opt/anaconda3/lib/python3.12/site-packages (from gradio) (0.27.0)\n",
      "Requirement already satisfied: huggingface-hub<1.0,>=0.33.5 in /opt/anaconda3/lib/python3.12/site-packages (from gradio) (0.34.4)\n",
      "Requirement already satisfied: jinja2<4.0 in /opt/anaconda3/lib/python3.12/site-packages (from gradio) (3.1.4)\n",
      "Requirement already satisfied: markupsafe<4.0,>=2.0 in /opt/anaconda3/lib/python3.12/site-packages (from gradio) (2.1.3)\n",
      "Requirement already satisfied: numpy<3.0,>=1.0 in /opt/anaconda3/lib/python3.12/site-packages (from gradio) (1.26.4)\n",
      "Requirement already satisfied: orjson~=3.0 in /opt/anaconda3/lib/python3.12/site-packages (from gradio) (3.10.16)\n",
      "Requirement already satisfied: packaging in /opt/anaconda3/lib/python3.12/site-packages (from gradio) (23.2)\n",
      "Requirement already satisfied: pandas<3.0,>=1.0 in /opt/anaconda3/lib/python3.12/site-packages (from gradio) (2.2.2)\n",
      "Requirement already satisfied: pillow<12.0,>=8.0 in /opt/anaconda3/lib/python3.12/site-packages (from gradio) (10.3.0)\n",
      "Requirement already satisfied: pydantic<2.12,>=2.0 in /opt/anaconda3/lib/python3.12/site-packages (from gradio) (2.11.1)\n",
      "Requirement already satisfied: pydub in /opt/anaconda3/lib/python3.12/site-packages (from gradio) (0.25.1)\n",
      "Requirement already satisfied: python-multipart>=0.0.18 in /opt/anaconda3/lib/python3.12/site-packages (from gradio) (0.0.20)\n",
      "Requirement already satisfied: pyyaml<7.0,>=5.0 in /opt/anaconda3/lib/python3.12/site-packages (from gradio) (6.0.1)\n",
      "Requirement already satisfied: ruff>=0.9.3 in /opt/anaconda3/lib/python3.12/site-packages (from gradio) (0.12.4)\n",
      "Requirement already satisfied: safehttpx<0.2.0,>=0.1.6 in /opt/anaconda3/lib/python3.12/site-packages (from gradio) (0.1.6)\n",
      "Requirement already satisfied: semantic-version~=2.0 in /opt/anaconda3/lib/python3.12/site-packages (from gradio) (2.10.0)\n",
      "Requirement already satisfied: starlette<1.0,>=0.40.0 in /opt/anaconda3/lib/python3.12/site-packages (from gradio) (0.46.2)\n",
      "Requirement already satisfied: tomlkit<0.14.0,>=0.12.0 in /opt/anaconda3/lib/python3.12/site-packages (from gradio) (0.13.3)\n",
      "Requirement already satisfied: typer<1.0,>=0.12 in /opt/anaconda3/lib/python3.12/site-packages (from gradio) (0.15.2)\n",
      "Requirement already satisfied: typing-extensions~=4.0 in /opt/anaconda3/lib/python3.12/site-packages (from gradio) (4.13.0)\n",
      "Requirement already satisfied: uvicorn>=0.14.0 in /opt/anaconda3/lib/python3.12/site-packages (from gradio) (0.34.2)\n",
      "Requirement already satisfied: fsspec in /opt/anaconda3/lib/python3.12/site-packages (from gradio-client==1.12.1->gradio) (2024.3.1)\n",
      "Requirement already satisfied: websockets<16.0,>=10.0 in /opt/anaconda3/lib/python3.12/site-packages (from gradio-client==1.12.1->gradio) (15.0.1)\n",
      "Requirement already satisfied: idna>=2.8 in /opt/anaconda3/lib/python3.12/site-packages (from anyio<5.0,>=3.0->gradio) (3.7)\n",
      "Requirement already satisfied: sniffio>=1.1 in /opt/anaconda3/lib/python3.12/site-packages (from anyio<5.0,>=3.0->gradio) (1.3.0)\n",
      "Requirement already satisfied: certifi in /opt/anaconda3/lib/python3.12/site-packages (from httpx<1.0,>=0.24.1->gradio) (2024.8.30)\n",
      "Requirement already satisfied: httpcore==1.* in /opt/anaconda3/lib/python3.12/site-packages (from httpx<1.0,>=0.24.1->gradio) (1.0.2)\n",
      "Requirement already satisfied: h11<0.15,>=0.13 in /opt/anaconda3/lib/python3.12/site-packages (from httpcore==1.*->httpx<1.0,>=0.24.1->gradio) (0.14.0)\n",
      "Requirement already satisfied: filelock in /opt/anaconda3/lib/python3.12/site-packages (from huggingface-hub<1.0,>=0.33.5->gradio) (3.13.1)\n",
      "Requirement already satisfied: requests in /opt/anaconda3/lib/python3.12/site-packages (from huggingface-hub<1.0,>=0.33.5->gradio) (2.32.2)\n",
      "Requirement already satisfied: tqdm>=4.42.1 in /opt/anaconda3/lib/python3.12/site-packages (from huggingface-hub<1.0,>=0.33.5->gradio) (4.66.4)\n",
      "Requirement already satisfied: hf-xet<2.0.0,>=1.1.3 in /opt/anaconda3/lib/python3.12/site-packages (from huggingface-hub<1.0,>=0.33.5->gradio) (1.1.9)\n",
      "Requirement already satisfied: python-dateutil>=2.8.2 in /opt/anaconda3/lib/python3.12/site-packages (from pandas<3.0,>=1.0->gradio) (2.9.0.post0)\n",
      "Requirement already satisfied: pytz>=2020.1 in /opt/anaconda3/lib/python3.12/site-packages (from pandas<3.0,>=1.0->gradio) (2024.1)\n",
      "Requirement already satisfied: tzdata>=2022.7 in /opt/anaconda3/lib/python3.12/site-packages (from pandas<3.0,>=1.0->gradio) (2023.3)\n",
      "Requirement already satisfied: annotated-types>=0.6.0 in /opt/anaconda3/lib/python3.12/site-packages (from pydantic<2.12,>=2.0->gradio) (0.6.0)\n",
      "Requirement already satisfied: pydantic-core==2.33.0 in /opt/anaconda3/lib/python3.12/site-packages (from pydantic<2.12,>=2.0->gradio) (2.33.0)\n",
      "Requirement already satisfied: typing-inspection>=0.4.0 in /opt/anaconda3/lib/python3.12/site-packages (from pydantic<2.12,>=2.0->gradio) (0.4.0)\n",
      "Requirement already satisfied: click>=8.0.0 in /opt/anaconda3/lib/python3.12/site-packages (from typer<1.0,>=0.12->gradio) (8.1.7)\n",
      "Requirement already satisfied: shellingham>=1.3.0 in /opt/anaconda3/lib/python3.12/site-packages (from typer<1.0,>=0.12->gradio) (1.5.4)\n",
      "Requirement already satisfied: rich>=10.11.0 in /opt/anaconda3/lib/python3.12/site-packages (from typer<1.0,>=0.12->gradio) (13.3.5)\n",
      "Requirement already satisfied: six>=1.5 in /opt/anaconda3/lib/python3.12/site-packages (from python-dateutil>=2.8.2->pandas<3.0,>=1.0->gradio) (1.16.0)\n",
      "Requirement already satisfied: markdown-it-py<3.0.0,>=2.2.0 in /opt/anaconda3/lib/python3.12/site-packages (from rich>=10.11.0->typer<1.0,>=0.12->gradio) (2.2.0)\n",
      "Requirement already satisfied: pygments<3.0.0,>=2.13.0 in /opt/anaconda3/lib/python3.12/site-packages (from rich>=10.11.0->typer<1.0,>=0.12->gradio) (2.15.1)\n",
      "Requirement already satisfied: charset-normalizer<4,>=2 in /opt/anaconda3/lib/python3.12/site-packages (from requests->huggingface-hub<1.0,>=0.33.5->gradio) (2.0.4)\n",
      "Requirement already satisfied: urllib3<3,>=1.21.1 in /opt/anaconda3/lib/python3.12/site-packages (from requests->huggingface-hub<1.0,>=0.33.5->gradio) (2.2.2)\n",
      "Requirement already satisfied: mdurl~=0.1 in /opt/anaconda3/lib/python3.12/site-packages (from markdown-it-py<3.0.0,>=2.2.0->rich>=10.11.0->typer<1.0,>=0.12->gradio) (0.1.0)\n",
      "Note: you may need to restart the kernel to use updated packages.\n"
     ]
    }
   ],
   "source": [
    "%pip install -r requirements.txt\n",
    "%pip install --upgrade gradio"
   ]
  },
  {
   "cell_type": "markdown",
   "id": "8d141539-5c19-45e9-8f06-d2219bb33613",
   "metadata": {},
   "source": [
    "__Cell 2: Import all libraries__"
   ]
  },
  {
   "cell_type": "code",
   "execution_count": 4,
   "id": "960c58f2-6a28-42f6-8f53-eb188f40a6fe",
   "metadata": {},
   "outputs": [],
   "source": [
    "import pandas as pd\n",
    "import gradio as gr\n",
    "from datetime import datetime, timedelta\n",
    "import traceback\n",
    "import warnings\n",
    "\n",
    "from langchain_google_genai import ChatGoogleGenerativeAI\n",
    "from langchain.prompts import PromptTemplate\n",
    "from langchain.output_parsers import PydanticOutputParser\n",
    "from pydantic import BaseModel, Field\n",
    "from typing import Optional\n",
    "\n",
    "from entsoe import EntsoePandasClient"
   ]
  },
  {
   "cell_type": "markdown",
   "id": "1e5a57b9-95db-4f32-b0eb-a00a7254234a",
   "metadata": {},
   "source": [
    "__Cell 3: Get ENTSOE API key from entsoe_api_key.txt and get Gemini API key from gemini_api_key.txt__"
   ]
  },
  {
   "cell_type": "code",
   "execution_count": 6,
   "id": "a03737f1-1856-420a-a846-4b33627670a1",
   "metadata": {},
   "outputs": [],
   "source": [
    "with open(\"gemini_api_key.txt\", \"r\") as file:\n",
    "    for line in file:\n",
    "        if line.startswith(\"GEMINI_API_KEY\"):\n",
    "            gemini_api_key = line.split(\"=\")[1].strip()\n",
    "\n",
    "\n",
    "with open(\"entsoe_api_key.txt\", \"r\") as file:\n",
    "    for line in file:       \n",
    "         if line.startswith(\"ENTSOE_API_KEY\"):\n",
    "            entsoe_api_key = line.split(\"=\")[1].strip()"
   ]
  },
  {
   "cell_type": "markdown",
   "id": "858bc8ba-1f04-4c04-b6bd-f5d99af53bbf",
   "metadata": {},
   "source": [
    "__Cell 4: Initialize the Gemini and ENTSOE Clients__"
   ]
  },
  {
   "cell_type": "code",
   "execution_count": 8,
   "id": "29e049f6-73c6-4b80-89ed-e26ecdaf05fd",
   "metadata": {},
   "outputs": [],
   "source": [
    "model = ChatGoogleGenerativeAI(model=\"gemini-2.0-flash-lite\", google_api_key=gemini_api_key, temperature=0)\n",
    "client = EntsoePandasClient(api_key=entsoe_api_key)"
   ]
  },
  {
   "cell_type": "markdown",
   "id": "9110dba9-25a4-44a3-b49f-b77f343de73f",
   "metadata": {},
   "source": [
    "__Cell 5: Create the class QuestionDetails__"
   ]
  },
  {
   "cell_type": "code",
   "execution_count": 10,
   "id": "c999f093-ff79-4696-b981-548f911cea1e",
   "metadata": {},
   "outputs": [],
   "source": [
    "class QuestionDetails(BaseModel):\n",
    "    function_name: str = Field(description=\"The exact API function to call based on the user's query.\")\n",
    "    country: str = Field(description=\"The full English name of the country.\")\n",
    "    start_date: str = Field(description=\"The start date for the query in 'YYYY-MM-DD' format.\")\n",
    "    end_date: str = Field(description=\"The end date for the query in 'YYYY-MM-DD' format.\")"
   ]
  },
  {
   "cell_type": "markdown",
   "id": "ab5c07b2-0291-44bc-9df7-bef56fd6c6f3",
   "metadata": {},
   "source": [
    "__Cell 6: Set up Pydantic Parser__"
   ]
  },
  {
   "cell_type": "code",
   "execution_count": 12,
   "id": "20357f69-339c-4186-b94f-918c10cce2ba",
   "metadata": {},
   "outputs": [],
   "source": [
    "parser = PydanticOutputParser(pydantic_object=QuestionDetails)"
   ]
  },
  {
   "cell_type": "markdown",
   "id": "a8100c36-8b98-4fa6-8438-fd7af9ecd94f",
   "metadata": {},
   "source": [
    "__Cell 7: Create the prompt__"
   ]
  },
  {
   "cell_type": "code",
   "execution_count": 14,
   "id": "629fc210-62af-47c4-bb2f-d721b94fbee3",
   "metadata": {},
   "outputs": [],
   "source": [
    "prompt_string = \"\"\"\n",
    "You are an expert API assistant for the ENTSO-E energy platform. Your job is to parse a user's query and convert it into a structured JSON object.\n",
    "\n",
    "Today's date is {current_date}.\n",
    "\n",
    "--- FUNCTION MAPPING ---\n",
    "Use this table to determine the correct 'function_name'.\n",
    "\n",
    "| If the user asks for...             | Use this 'function_name'      |\n",
    "|-------------------------------------|-------------------------------|\n",
    "| Actual load, consumption, or demand | query_load                    |\n",
    "| Generation forecast or prediction   | query_generation_forecast     |\n",
    "\n",
    "--- PARAMETER EXTRACTION RULES ---\n",
    "1.  **Country**: Extract the full English country name from the user's query.\n",
    "2.  **Date Range**:\n",
    "    - Based on the query and today's date ({current_date}), figure out the correct `start_date` and `end_date` in 'YYYY-MM-DD' format.\n",
    "    - If the user says \"yesterday\", use yesterday's date.\n",
    "    - If no date is mentioned, assume the user means \"today\".\n",
    "\n",
    "--- EXAMPLES ---\n",
    "- Query: \"What is the current load in France?\"\n",
    "  Expected Output: {{ \"function_name\": \"query_load\", \"country\": \"France\", \"start_date\": \"2025-09-08\", \"end_date\": \"2025-09-08\" }}\n",
    "\n",
    "- Query: \"Show me the generation forecast for Germany today\"\n",
    "  Expected Output: {{ \"function_name\": \"query_generation_forecast\", \"country\": \"Germany\", \"start_date\": \"2025-09-08\", \"end_date\": \"2025-09-08\" }}\n",
    "\n",
    "- Query: \"What was the load in Spain yesterday?\"\n",
    "  Expected Output: {{ \"function_name\": \"query_load\", \"country\": \"Spain\", \"start_date\": \"2025-09-07\", \"end_date\": \"2025-09-07\" }}\n",
    "\n",
    "{format_instructions}\n",
    "\n",
    "User Query:\n",
    "{query}\n",
    "\"\"\""
   ]
  },
  {
   "cell_type": "markdown",
   "id": "7cd7040d-578b-461b-8eca-8edca81e6778",
   "metadata": {},
   "source": [
    "__Cell 8: Create the prompt template__"
   ]
  },
  {
   "cell_type": "code",
   "execution_count": 16,
   "id": "c2e0d44c-b9d2-4c5c-b5dd-4a6077e6dbf4",
   "metadata": {},
   "outputs": [],
   "source": [
    "prompt = PromptTemplate(\n",
    "    template=prompt_string,\n",
    "    input_variables=[\"query\", \"current_date\"],\n",
    "    partial_variables={\"format_instructions\": parser.get_format_instructions()},\n",
    ")"
   ]
  },
  {
   "cell_type": "markdown",
   "id": "9b70f382-13e7-466a-8b75-c06a2942d7eb",
   "metadata": {},
   "source": [
    "__Cell 9: Create langchain chain__"
   ]
  },
  {
   "cell_type": "code",
   "execution_count": 18,
   "id": "181c83b2-de2f-466a-ba4a-04d62d39232d",
   "metadata": {},
   "outputs": [],
   "source": [
    "chain = prompt | model | parser"
   ]
  },
  {
   "cell_type": "markdown",
   "id": "643d6ca3-5264-4eb7-9fdc-ed66465a62bf",
   "metadata": {},
   "source": [
    "__Cell 10: List of Country Codes__"
   ]
  },
  {
   "cell_type": "code",
   "execution_count": 20,
   "id": "f84accf5-17e1-4338-9a2b-2732ad8a8e2b",
   "metadata": {},
   "outputs": [],
   "source": [
    "EUROPEAN_COUNTRY_CODES = {\n",
    "    \"albania\": \"AL\", \"austria\": \"AT\", \"belgium\": \"BE\", \"bosnia and herzegovina\": \"BA\",\n",
    "    \"bulgaria\": \"BG\", \"croatia\": \"HR\", \"cyprus\": \"CY\", \"czech republic\": \"CZ\", \"denmark\": \"DK\",\n",
    "    \"estonia\": \"EE\", \"finland\": \"FI\", \"france\": \"FR\", \"georgia\": \"GE\", \"germany\": \"DE\",\n",
    "    \"greece\": \"GR\", \"hungary\": \"HU\", \"iceland\": \"IS\", \"ireland\": \"IE\", \"italy\": \"IT\",\n",
    "    \"kosovo\": \"XK\", \"latvia\": \"LV\", \"lithuania\": \"LT\", \"luxembourg\": \"LU\", \"malta\": \"MT\",\n",
    "    \"moldova\": \"MD\", \"montenegro\": \"ME\", \"netherlands\": \"NL\", \"north macedonia\": \"MK\", \n",
    "    \"norway\": \"NO\", \"poland\": \"PL\", \"portugal\": \"PT\", \"romania\": \"RO\", \"serbia\": \"RS\",\n",
    "    \"slovakia\": \"SK\", \"slovenia\": \"SI\", \"spain\": \"ES\", \"sweden\": \"SE\", \"switzerland\": \"CH\",\n",
    "    \"turkey\": \"TR\", \"ukraine\": \"UA\", \"united kingdom\": \"GB\",\n",
    "}"
   ]
  },
  {
   "cell_type": "markdown",
   "id": "2f185e1e-6aa5-4815-9833-432527fd8249",
   "metadata": {},
   "source": [
    "\n",
    "__Cell 11: Create function that retrieves the data using the ENTSOE API__"
   ]
  },
  {
   "cell_type": "code",
   "execution_count": 22,
   "id": "96c0a535-abd7-4297-9445-7380f9c18c8c",
   "metadata": {},
   "outputs": [],
   "source": [
    "def call_entsoe_api_dispatcher(client, question: QuestionDetails):\n",
    "    start = pd.Timestamp(question.start_date, tz='Europe/Brussels')\n",
    "    end = pd.Timestamp(question.end_date, tz='Europe/Brussels') + timedelta(days=1)\n",
    "    \n",
    "    country_code = EUROPEAN_COUNTRY_CODES.get(question.country.lower()) if question.country else None\n",
    "\n",
    "    if not country_code:\n",
    "        return \"Query is missing a valid country.\"\n",
    "\n",
    "    func_name = question.function_name\n",
    "    \n",
    "    try:\n",
    "        if func_name == 'query_load':\n",
    "            return client.query_load(country_code, start=start, end=end)\n",
    "            \n",
    "        elif func_name == 'query_generation_forecast':\n",
    "            return client.query_generation_forecast(country_code, start=start, end=end)\n",
    "            \n",
    "        else:\n",
    "            return f\"Function '{func_name}' is not supported by this dispatcher.\"\n",
    "\n",
    "    except Exception as e:\n",
    "        return f\"API call failed for function '{func_name}' with error: {e}\""
   ]
  },
  {
   "cell_type": "markdown",
   "id": "546e2061-1b27-4d64-8c4b-a98192f0680c",
   "metadata": {},
   "source": [
    "__Cell 12: Formats the data into a summary string and a pandas DataFrame for table display__"
   ]
  },
  {
   "cell_type": "code",
   "execution_count": 24,
   "id": "a86773b7-c9b4-42c5-96a5-f64967bfeb9d",
   "metadata": {},
   "outputs": [],
   "source": [
    "def format_data_as_table(data, details: QuestionDetails):\n",
    "    title = details.function_name.replace('query_', '').replace('_', ' ').title()\n",
    "    \n",
    "    if isinstance(data, str):\n",
    "        return data, None\n",
    "    \n",
    "    if data.empty:\n",
    "        return f\"No data found for {title} in {details.country.capitalize()}\", None\n",
    "\n",
    "    try:\n",
    "        stats_series = data.iloc[:, 0] if isinstance(data, pd.DataFrame) else data\n",
    "        \n",
    "        summary = (\n",
    "            f\"**Summary for {title} in {details.country.capitalize()}**\\n\"\n",
    "            f\"**Period:** {details.start_date} to {details.end_date}\\n\\n\"\n",
    "            f\"Mean: **{stats_series.mean():.2f}**\\n\"\n",
    "            f\"Min: **{stats_series.min():.2f}**\\n\"\n",
    "            f\"Max: **{stats_series.max():.2f}**\"\n",
    "        )\n",
    "    except Exception as e:\n",
    "        summary = f\"**Data for {title} in {details.country.capitalize()}**\\n(Could not calculate summary statistics due to an error.)\"\n",
    "\n",
    "    unit = \"EUR/MWh\" if 'price' in details.function_name.lower() else \"MW\"\n",
    "    table_df = pd.DataFrame(data).reset_index()\n",
    "    \n",
    "    if len(table_df.columns) >= 2:\n",
    "        table_df.columns = ['Timestamp'] + [f'Value_{i}' for i in range(1, len(table_df.columns))]\n",
    "        table_df.rename(columns={'Value_1': f'Value ({unit})'}, inplace=True)\n",
    "    \n",
    "    table_df['Timestamp'] = pd.to_datetime(table_df['Timestamp']).dt.strftime('%Y-%m-%d %H:%M')\n",
    "    \n",
    "    return summary, table_df"
   ]
  },
  {
   "cell_type": "markdown",
   "id": "7be4c8d5-5335-42d7-a62f-6b0f595ea2a4",
   "metadata": {},
   "source": [
    "__Cell 13: Create the main function__"
   ]
  },
  {
   "cell_type": "code",
   "execution_count": 26,
   "id": "b9a713ba-8f21-4932-b9ab-ef936b73b5ad",
   "metadata": {},
   "outputs": [],
   "source": [
    "def process_query(question):\n",
    "    if not question:\n",
    "        return \"Please ask a question.\", None\n",
    "    try:\n",
    "        current_date_str = datetime.now().strftime('%Y-%m-%d')\n",
    "        parsed_details = chain.invoke({\"query\": question, \"current_date\": current_date_str})\n",
    "        \n",
    "        data = call_entsoe_api_dispatcher(client, parsed_details)\n",
    "        \n",
    "        summary, table = format_data_as_table(data, parsed_details)\n",
    "        return summary, table\n",
    "    except Exception as e:\n",
    "        traceback.print_exc()\n",
    "        return f\"Sorry, a critical error occurred. Error: {e}\", None"
   ]
  },
  {
   "cell_type": "markdown",
   "id": "4cbefc16-f62c-46e2-8638-a0a5895efcef",
   "metadata": {},
   "source": [
    "__Cell 14: Create the Gradio Interface__"
   ]
  },
  {
   "cell_type": "code",
   "execution_count": 28,
   "id": "fc3201cd-1264-43a7-b806-446d59e052e9",
   "metadata": {},
   "outputs": [],
   "source": [
    "interface = gr.Interface(\n",
    "    fn=process_query,\n",
    "    inputs=gr.Textbox(lines=2, placeholder=\"e.g., Show me electricity prices in Germany yesterday...\"),\n",
    "    outputs=[\n",
    "        gr.Markdown(label=\"Summary\"),\n",
    "        # Replace 'max_rows=15' with 'height=500' for visual control\n",
    "        gr.DataFrame(label=\"Data Table\", wrap=True) \n",
    "    ],\n",
    "    title=\"🇪🇺 European Energy Data Chatbot (Table View)\",\n",
    "    description=\"Ask me about day-ahead electricity prices or total load for various European countries.\",\n",
    "    flagging_mode=\"never\"\n",
    ")"
   ]
  },
  {
   "cell_type": "markdown",
   "id": "89f3fc7e-479b-488c-93e5-24d9f875258f",
   "metadata": {},
   "source": [
    "__Cell 15: Launch the interface and use the chatbot and use the library warnings to remove some unnecessary error messages that are not relevant__"
   ]
  },
  {
   "cell_type": "code",
   "execution_count": 30,
   "id": "c4688188-5a15-4afd-a95e-e8e287300f57",
   "metadata": {},
   "outputs": [
    {
     "name": "stdout",
     "output_type": "stream",
     "text": [
      "* Running on local URL:  http://127.0.0.1:7860\n",
      "* To create a public link, set `share=True` in `launch()`.\n"
     ]
    },
    {
     "name": "stderr",
     "output_type": "stream",
     "text": [
      "/opt/anaconda3/lib/python3.12/site-packages/uvicorn/protocols/websockets/websockets_impl.py:17: DeprecationWarning: websockets.server.WebSocketServerProtocol is deprecated\n",
      "  from websockets.server import WebSocketServerProtocol\n"
     ]
    },
    {
     "data": {
      "text/html": [
       "<div><iframe src=\"http://127.0.0.1:7860/\" width=\"100%\" height=\"500\" allow=\"autoplay; camera; microphone; clipboard-read; clipboard-write;\" frameborder=\"0\" allowfullscreen></iframe></div>"
      ],
      "text/plain": [
       "<IPython.core.display.HTML object>"
      ]
     },
     "metadata": {},
     "output_type": "display_data"
    }
   ],
   "source": [
    "interface.launch()\n",
    "warnings.filterwarnings(\"ignore\", category=DeprecationWarning)\n",
    "warnings.filterwarnings(\"ignore\", category=ResourceWarning, message=\"unclosed <socket.socket.*>\")"
   ]
  },
  {
   "cell_type": "code",
   "execution_count": null,
   "id": "6de78973-8ddd-4ef0-8349-d6fdbdec4823",
   "metadata": {},
   "outputs": [],
   "source": []
  }
 ],
 "metadata": {
  "kernelspec": {
   "display_name": "Python 3 (ipykernel)",
   "language": "python",
   "name": "python3"
  },
  "language_info": {
   "codemirror_mode": {
    "name": "ipython",
    "version": 3
   },
   "file_extension": ".py",
   "mimetype": "text/x-python",
   "name": "python",
   "nbconvert_exporter": "python",
   "pygments_lexer": "ipython3",
   "version": "3.12.4"
  }
 },
 "nbformat": 4,
 "nbformat_minor": 5
}
